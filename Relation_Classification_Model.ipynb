{
  "nbformat": 4,
  "nbformat_minor": 0,
  "metadata": {
    "colab": {
      "provenance": [],
      "authorship_tag": "ABX9TyPCRHv4lrfwYrEcUr2zGC+f",
      "include_colab_link": true
    },
    "kernelspec": {
      "name": "python3",
      "display_name": "Python 3"
    },
    "language_info": {
      "name": "python"
    }
  },
  "cells": [
    {
      "cell_type": "markdown",
      "metadata": {
        "id": "view-in-github",
        "colab_type": "text"
      },
      "source": [
        "<a href=\"https://colab.research.google.com/github/adrianacupp/NLP_with_Transformers/blob/main/Relation_Classification_Model.ipynb\" target=\"_parent\"><img src=\"https://colab.research.google.com/assets/colab-badge.svg\" alt=\"Open In Colab\"/></a>"
      ]
    },
    {
      "cell_type": "code",
      "source": [
        "#extract dataset directly from kaggle"
      ],
      "metadata": {
        "id": "Uh8SqS2f0JJU"
      },
      "execution_count": 28,
      "outputs": []
    },
    {
      "cell_type": "code",
      "source": [
        "# 1. Read the kaggle API token to interact with your kaggle account\n",
        "\n",
        "from google.colab import files\n",
        "files.upload()"
      ],
      "metadata": {
        "colab": {
          "base_uri": "https://localhost:8080/",
          "height": 90
        },
        "id": "VU7SGfnxuruf",
        "outputId": "5e7c57cb-69c9-40c7-a648-ac7a5f1b346d"
      },
      "execution_count": 12,
      "outputs": [
        {
          "output_type": "display_data",
          "data": {
            "text/plain": [
              "<IPython.core.display.HTML object>"
            ],
            "text/html": [
              "\n",
              "     <input type=\"file\" id=\"files-9bd40231-0e94-4220-a5ed-3ec94fcbc4a3\" name=\"files[]\" multiple disabled\n",
              "        style=\"border:none\" />\n",
              "     <output id=\"result-9bd40231-0e94-4220-a5ed-3ec94fcbc4a3\">\n",
              "      Upload widget is only available when the cell has been executed in the\n",
              "      current browser session. Please rerun this cell to enable.\n",
              "      </output>\n",
              "      <script>// Copyright 2017 Google LLC\n",
              "//\n",
              "// Licensed under the Apache License, Version 2.0 (the \"License\");\n",
              "// you may not use this file except in compliance with the License.\n",
              "// You may obtain a copy of the License at\n",
              "//\n",
              "//      http://www.apache.org/licenses/LICENSE-2.0\n",
              "//\n",
              "// Unless required by applicable law or agreed to in writing, software\n",
              "// distributed under the License is distributed on an \"AS IS\" BASIS,\n",
              "// WITHOUT WARRANTIES OR CONDITIONS OF ANY KIND, either express or implied.\n",
              "// See the License for the specific language governing permissions and\n",
              "// limitations under the License.\n",
              "\n",
              "/**\n",
              " * @fileoverview Helpers for google.colab Python module.\n",
              " */\n",
              "(function(scope) {\n",
              "function span(text, styleAttributes = {}) {\n",
              "  const element = document.createElement('span');\n",
              "  element.textContent = text;\n",
              "  for (const key of Object.keys(styleAttributes)) {\n",
              "    element.style[key] = styleAttributes[key];\n",
              "  }\n",
              "  return element;\n",
              "}\n",
              "\n",
              "// Max number of bytes which will be uploaded at a time.\n",
              "const MAX_PAYLOAD_SIZE = 100 * 1024;\n",
              "\n",
              "function _uploadFiles(inputId, outputId) {\n",
              "  const steps = uploadFilesStep(inputId, outputId);\n",
              "  const outputElement = document.getElementById(outputId);\n",
              "  // Cache steps on the outputElement to make it available for the next call\n",
              "  // to uploadFilesContinue from Python.\n",
              "  outputElement.steps = steps;\n",
              "\n",
              "  return _uploadFilesContinue(outputId);\n",
              "}\n",
              "\n",
              "// This is roughly an async generator (not supported in the browser yet),\n",
              "// where there are multiple asynchronous steps and the Python side is going\n",
              "// to poll for completion of each step.\n",
              "// This uses a Promise to block the python side on completion of each step,\n",
              "// then passes the result of the previous step as the input to the next step.\n",
              "function _uploadFilesContinue(outputId) {\n",
              "  const outputElement = document.getElementById(outputId);\n",
              "  const steps = outputElement.steps;\n",
              "\n",
              "  const next = steps.next(outputElement.lastPromiseValue);\n",
              "  return Promise.resolve(next.value.promise).then((value) => {\n",
              "    // Cache the last promise value to make it available to the next\n",
              "    // step of the generator.\n",
              "    outputElement.lastPromiseValue = value;\n",
              "    return next.value.response;\n",
              "  });\n",
              "}\n",
              "\n",
              "/**\n",
              " * Generator function which is called between each async step of the upload\n",
              " * process.\n",
              " * @param {string} inputId Element ID of the input file picker element.\n",
              " * @param {string} outputId Element ID of the output display.\n",
              " * @return {!Iterable<!Object>} Iterable of next steps.\n",
              " */\n",
              "function* uploadFilesStep(inputId, outputId) {\n",
              "  const inputElement = document.getElementById(inputId);\n",
              "  inputElement.disabled = false;\n",
              "\n",
              "  const outputElement = document.getElementById(outputId);\n",
              "  outputElement.innerHTML = '';\n",
              "\n",
              "  const pickedPromise = new Promise((resolve) => {\n",
              "    inputElement.addEventListener('change', (e) => {\n",
              "      resolve(e.target.files);\n",
              "    });\n",
              "  });\n",
              "\n",
              "  const cancel = document.createElement('button');\n",
              "  inputElement.parentElement.appendChild(cancel);\n",
              "  cancel.textContent = 'Cancel upload';\n",
              "  const cancelPromise = new Promise((resolve) => {\n",
              "    cancel.onclick = () => {\n",
              "      resolve(null);\n",
              "    };\n",
              "  });\n",
              "\n",
              "  // Wait for the user to pick the files.\n",
              "  const files = yield {\n",
              "    promise: Promise.race([pickedPromise, cancelPromise]),\n",
              "    response: {\n",
              "      action: 'starting',\n",
              "    }\n",
              "  };\n",
              "\n",
              "  cancel.remove();\n",
              "\n",
              "  // Disable the input element since further picks are not allowed.\n",
              "  inputElement.disabled = true;\n",
              "\n",
              "  if (!files) {\n",
              "    return {\n",
              "      response: {\n",
              "        action: 'complete',\n",
              "      }\n",
              "    };\n",
              "  }\n",
              "\n",
              "  for (const file of files) {\n",
              "    const li = document.createElement('li');\n",
              "    li.append(span(file.name, {fontWeight: 'bold'}));\n",
              "    li.append(span(\n",
              "        `(${file.type || 'n/a'}) - ${file.size} bytes, ` +\n",
              "        `last modified: ${\n",
              "            file.lastModifiedDate ? file.lastModifiedDate.toLocaleDateString() :\n",
              "                                    'n/a'} - `));\n",
              "    const percent = span('0% done');\n",
              "    li.appendChild(percent);\n",
              "\n",
              "    outputElement.appendChild(li);\n",
              "\n",
              "    const fileDataPromise = new Promise((resolve) => {\n",
              "      const reader = new FileReader();\n",
              "      reader.onload = (e) => {\n",
              "        resolve(e.target.result);\n",
              "      };\n",
              "      reader.readAsArrayBuffer(file);\n",
              "    });\n",
              "    // Wait for the data to be ready.\n",
              "    let fileData = yield {\n",
              "      promise: fileDataPromise,\n",
              "      response: {\n",
              "        action: 'continue',\n",
              "      }\n",
              "    };\n",
              "\n",
              "    // Use a chunked sending to avoid message size limits. See b/62115660.\n",
              "    let position = 0;\n",
              "    do {\n",
              "      const length = Math.min(fileData.byteLength - position, MAX_PAYLOAD_SIZE);\n",
              "      const chunk = new Uint8Array(fileData, position, length);\n",
              "      position += length;\n",
              "\n",
              "      const base64 = btoa(String.fromCharCode.apply(null, chunk));\n",
              "      yield {\n",
              "        response: {\n",
              "          action: 'append',\n",
              "          file: file.name,\n",
              "          data: base64,\n",
              "        },\n",
              "      };\n",
              "\n",
              "      let percentDone = fileData.byteLength === 0 ?\n",
              "          100 :\n",
              "          Math.round((position / fileData.byteLength) * 100);\n",
              "      percent.textContent = `${percentDone}% done`;\n",
              "\n",
              "    } while (position < fileData.byteLength);\n",
              "  }\n",
              "\n",
              "  // All done.\n",
              "  yield {\n",
              "    response: {\n",
              "      action: 'complete',\n",
              "    }\n",
              "  };\n",
              "}\n",
              "\n",
              "scope.google = scope.google || {};\n",
              "scope.google.colab = scope.google.colab || {};\n",
              "scope.google.colab._files = {\n",
              "  _uploadFiles,\n",
              "  _uploadFilesContinue,\n",
              "};\n",
              "})(self);\n",
              "</script> "
            ]
          },
          "metadata": {}
        },
        {
          "output_type": "stream",
          "name": "stdout",
          "text": [
            "Saving kaggle.json to kaggle.json\n"
          ]
        },
        {
          "output_type": "execute_result",
          "data": {
            "text/plain": [
              "{'kaggle.json': b'{\"username\":\"adracupp\",\"key\":\"e74d1222705292f7c525d7e2a435b34f\"}'}"
            ]
          },
          "metadata": {},
          "execution_count": 12
        }
      ]
    },
    {
      "cell_type": "code",
      "source": [
        "#2. Series of commands to set-up for download\n",
        "\n",
        "!ls -lha kaggle.json\n",
        "!pip install -q kaggle # installing the kaggle package\n",
        "!mkdir -p ~/.kaggle # creating .kaggle folder where the key should be placed\n",
        "!cp kaggle.json ~/.kaggle/ # move the key to the folder\n",
        "!pwd # checking the present working directory"
      ],
      "metadata": {
        "colab": {
          "base_uri": "https://localhost:8080/"
        },
        "id": "vVuePZ2Duz6l",
        "outputId": "398ca7cf-947f-4e4c-bf35-48cfed768620"
      },
      "execution_count": 13,
      "outputs": [
        {
          "output_type": "stream",
          "name": "stdout",
          "text": [
            "-rw-r--r-- 1 root root 64 Aug  6 08:17 kaggle.json\n",
            "/content\n"
          ]
        }
      ]
    },
    {
      "cell_type": "code",
      "source": [
        "#3. giving rw access (if 401-nathorized)\n",
        "\n",
        "!chmod 600 ~/.kaggle/kaggle.json"
      ],
      "metadata": {
        "id": "beQHrRBiu9XH"
      },
      "execution_count": 14,
      "outputs": []
    },
    {
      "cell_type": "code",
      "source": [
        "#4. Sanity check if able to access kaggle\n",
        "!kaggle datasets list"
      ],
      "metadata": {
        "colab": {
          "base_uri": "https://localhost:8080/"
        },
        "id": "tmDsNEnevBTH",
        "outputId": "ab8c4bc5-6ede-4153-9cef-9e03e782a2e0"
      },
      "execution_count": null,
      "outputs": [
        {
          "output_type": "stream",
          "name": "stdout",
          "text": [
            "ref                                                    title                                    size  lastUpdated          downloadCount  voteCount  usabilityRating  \n",
            "-----------------------------------------------------  --------------------------------------  -----  -------------------  -------------  ---------  ---------------  \n",
            "waqi786/cats-dataset                                   🐾 Cats Dataset                            6KB  2024-07-31 06:12:49           1688         33  1.0              \n",
            "priyamchoksi/credit-card-transactions-dataset          Credit Card Transactions Dataset        145MB  2024-07-23 00:31:47           1451         30  1.0              \n",
            "abhayayare/employee-data-simulation-it-industry        Employee Data Simulation: IT Industry     4KB  2024-07-21 15:26:17           1919         33  1.0              \n",
            "patricklford/global-ev-sales-2010-2024                 Global EV Sales: 2010-2024               83KB  2024-07-19 13:40:22           2521         35  1.0              \n",
            "rabieelkharoua/students-performance-dataset            📚 Students Performance Dataset 📚         66KB  2024-06-12 23:09:20          27315        534  1.0              \n",
            "ihelon/coffee-sales                                    Coffee Sales                             13KB  2024-08-01 07:55:34           9604        150  1.0              \n",
            "waqi786/top-games-dataset                              Top Games Dataset 🎮📊                     77KB  2024-08-02 11:27:16            924         21  1.0              \n",
            "abdulmalik1518/football-players-datasets-2015-2024     Football Players Datasets 2015 - 2024    13KB  2024-07-29 16:11:57            509         23  1.0              \n",
            "mbsoroush/mobile-price-range                           Mobile Price Range                       71KB  2024-07-29 08:05:56            779         22  1.0              \n",
            "anthonytherrien/depression-dataset                     Depression Dataset                        9MB  2024-07-19 20:42:08           1203         24  1.0              \n",
            "waqi786/cars-dataset-2010-2020                         Cars Dataset (2010-2020)                 96KB  2024-07-23 05:49:46           1750         29  1.0              \n",
            "rasikasrimal/covid-19-confirmed-cases                  covid-19 confirmed cases                 30KB  2024-07-18 12:04:09           1241         27  1.0              \n",
            "waqi786/mobile-sales-dataset                           Mobile Sales Dataset 📱                   58KB  2024-07-26 11:03:16           1748         35  1.0              \n",
            "waqi786/dogs-dataset-3000-records                      🐶 Dogs Dataset - 3000 Records 🐾          18KB  2024-07-30 12:21:20            798         22  1.0              \n",
            "waqi786/top-intelligent-people-in-the-world            Top Intelligent People in the World 🌍🧠   79KB  2024-07-27 11:36:16            876         32  1.0              \n",
            "nelgiriyewithana/most-streamed-spotify-songs-2024      Most Streamed Spotify Songs 2024        496KB  2024-06-15 18:50:51          19691        379  1.0              \n",
            "waqi786/1000-richest-people-in-the-world               1000 Richest People in the World          8KB  2024-07-28 05:39:38           1204         32  1.0              \n",
            "abdelazizsami/wine-quality                             Wine Quality                             97KB  2024-07-14 05:07:55            936         21  0.8235294        \n",
            "shivamkumar121215/nba-stats-dataset-for-last-10-years  NBA STATS Dataset for last 10 years     912KB  2024-07-24 15:57:39            805         23  0.9411765        \n",
            "harinkl/import-and-export-of-india-2009-2025           import and export of india 2009-2025    364KB  2024-07-20 04:37:38           1836         28  1.0              \n"
          ]
        }
      ]
    },
    {
      "cell_type": "code",
      "source": [
        "!kaggle datasets download -d daishinkan002/new-york-times-relation-extraction-dataset"
      ],
      "metadata": {
        "colab": {
          "base_uri": "https://localhost:8080/"
        },
        "id": "1y3ewrlhvE7i",
        "outputId": "f034066a-eb55-459c-d8e5-97b364329b93"
      },
      "execution_count": 19,
      "outputs": [
        {
          "output_type": "stream",
          "name": "stdout",
          "text": [
            "Dataset URL: https://www.kaggle.com/datasets/daishinkan002/new-york-times-relation-extraction-dataset\n",
            "License(s): unknown\n",
            "new-york-times-relation-extraction-dataset.zip: Skipping, found more recently modified local copy (use --force to force download)\n"
          ]
        }
      ]
    },
    {
      "cell_type": "code",
      "source": [
        "!pwd\n"
      ],
      "metadata": {
        "colab": {
          "base_uri": "https://localhost:8080/"
        },
        "id": "8a_xIL96yLZu",
        "outputId": "f120e9a6-6fa8-44c6-966b-3e511ff5fff3"
      },
      "execution_count": 21,
      "outputs": [
        {
          "output_type": "stream",
          "name": "stdout",
          "text": [
            "/content\n"
          ]
        }
      ]
    },
    {
      "cell_type": "code",
      "source": [
        "!ls -lha\n"
      ],
      "metadata": {
        "colab": {
          "base_uri": "https://localhost:8080/"
        },
        "id": "DaqsdHxiyvWJ",
        "outputId": "80c53538-92fd-42bc-d466-dfcbbf31a86c"
      },
      "execution_count": 22,
      "outputs": [
        {
          "output_type": "stream",
          "name": "stdout",
          "text": [
            "total 9.1M\n",
            "drwxr-xr-x 1 root root 4.0K Aug  6 08:21 .\n",
            "drwxr-xr-x 1 root root 4.0K Aug  6 07:36 ..\n",
            "drwxr-xr-x 4 root root 4.0K Aug  2 13:24 .config\n",
            "drwx------ 6 root root 4.0K Aug  6 08:14 drive\n",
            "drwxr-xr-x 2 root root 4.0K Aug  6 08:13 .ipynb_checkpoints\n",
            "-rw-r--r-- 1 root root   64 Aug  6 08:17 kaggle.json\n",
            "-rw-r--r-- 1 root root 9.1M Jul 31  2021 new-york-times-relation-extraction-dataset.zip\n",
            "drwxr-xr-x 1 root root 4.0K Aug  2 13:24 sample_data\n"
          ]
        }
      ]
    },
    {
      "cell_type": "code",
      "source": [
        "!unzip new-york-times-relation-extraction-dataset.zip\n"
      ],
      "metadata": {
        "colab": {
          "base_uri": "https://localhost:8080/"
        },
        "id": "1xeXmfgHy3ZF",
        "outputId": "4e7cbe32-70c0-4d99-fd09-e2d7774d893a"
      },
      "execution_count": 23,
      "outputs": [
        {
          "output_type": "stream",
          "name": "stdout",
          "text": [
            "Archive:  new-york-times-relation-extraction-dataset.zip\n",
            "  inflating: dataset/test.json       \n",
            "  inflating: dataset/train.json      \n",
            "  inflating: dataset/valid.json      \n"
          ]
        }
      ]
    },
    {
      "cell_type": "code",
      "source": [
        "# Function to extract relations from a JSON object\n",
        "def extract_relations(json_line):\n",
        "    relations = []\n",
        "    sent_text = json_line['sentText']\n",
        "    for relation in json_line['relationMentions']:\n",
        "        em1_text = relation['em1Text']\n",
        "        em2_text = relation['em2Text']\n",
        "        label = relation['label']\n",
        "        relations.append((sent_text, em1_text, em2_text, label))\n",
        "    return relations"
      ],
      "metadata": {
        "id": "3dBPI5fO0Htx"
      },
      "execution_count": 27,
      "outputs": []
    },
    {
      "cell_type": "code",
      "source": [
        "import json\n",
        "\n",
        "# Define the file path\n",
        "input_file = 'dataset/train.json'\n",
        "\n",
        "# Initialize a list to hold the data\n",
        "data = []\n",
        "\n",
        "# Initialize a counter for the number of lines processed\n",
        "count = 0\n",
        "\n",
        "# Read the JSON file\n",
        "with open(input_file, 'r') as file:\n",
        "    for line in file:\n",
        "        json_line = json.loads(line)  # Load JSON object from the line\n",
        "        relations = extract_relations(json_line)  # Extract relations\n",
        "        data.extend(relations)  # Add extracted relations to the data list\n",
        "        count += 1  # Increment the counter"
      ],
      "metadata": {
        "id": "KH7837uSzLxv"
      },
      "execution_count": 32,
      "outputs": []
    },
    {
      "cell_type": "code",
      "source": [
        "# Print the number of lines processed and the first few extracted relations\n",
        "print(f\"Processed {count} lines.\")\n",
        "print(f\"First few extracted relations: {data[:5]}\")"
      ],
      "metadata": {
        "colab": {
          "base_uri": "https://localhost:8080/"
        },
        "id": "CUmOQvLXzYYS",
        "outputId": "60be3a51-001a-4998-ef3f-1f27180c5267"
      },
      "execution_count": 33,
      "outputs": [
        {
          "output_type": "stream",
          "name": "stdout",
          "text": [
            "Processed 56196 lines.\n",
            "First few extracted relations: [('Massachusetts ASTON MAGNA Great Barrington ; also at Bard College , Annandale-on-Hudson , N.Y. , July 1-Aug .', 'Annandale-on-Hudson', 'Bard College', '/location/location/contains'), ('North Carolina EASTERN MUSIC FESTIVAL Greensboro , June 25-July 30 .', 'North Carolina', 'Greensboro', '/location/location/contains'), (\"It will be the final movie credited to Debra Hill , a film producer and native of Haddonfield , who produced '' Halloween '' and was considered a pioneering woman in film .\", 'Debra Hill', 'Haddonfield', '/people/person/place_of_birth'), (\"In a 3-0 victory over the Crew on Saturday in Columbus , Ohio , goalkeeper Zach Wells stopped Kyle Martino 's penalty kick , only the third unsuccessful penalty in 20 attempts in M.L.S. this season .\", 'Ohio', 'Columbus', '/location/location/contains'), (\"The United States ambassador to Mexico , Tony Garza , said in a statement that he had directed the American Consulate in Nuevo Laredo to reopen on Monday , a week after he ordered it closed because of '' rampant violence '' along the northern border , including a gun battle in the city in which warring drug gangs used bazookas .\", 'Mexico', 'Nuevo Laredo', '/location/location/contains')]\n"
          ]
        }
      ]
    }
  ]
}